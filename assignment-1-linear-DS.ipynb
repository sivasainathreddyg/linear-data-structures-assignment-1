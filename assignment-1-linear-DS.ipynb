{
 "cells": [
  {
   "cell_type": "markdown",
   "id": "c07ffecc",
   "metadata": {},
   "source": [
    "1.Write a program to find all pairs of an integer array whose sum is equal to a given number?"
   ]
  },
  {
   "cell_type": "code",
   "execution_count": 1,
   "id": "d0b4c1ac",
   "metadata": {},
   "outputs": [
    {
     "name": "stdout",
     "output_type": "stream",
     "text": [
      "enter the sum:4\n",
      "The pairs of an integer array who sum is equal to given number of is:1&3\n"
     ]
    }
   ],
   "source": [
    "array=[1,2,3,4,5,6,7]\n",
    "sum=int(input(\"enter the sum:\"))\n",
    "for i in range(len(array)):\n",
    "    for j in range(i+1,len(array)):\n",
    "        if array[i]+array[j]==sum:\n",
    "            print(f\"The pairs of an integer array who sum is equal to given number of is:{array[i]}&{array[j]}\")"
   ]
  },
  {
   "cell_type": "markdown",
   "id": "5aeb13c8",
   "metadata": {},
   "source": [
    "2.Write a program to reverse an array in place? In place means you cannot create a new array. You have to update the original array"
   ]
  },
  {
   "cell_type": "code",
   "execution_count": 2,
   "id": "8e39221f",
   "metadata": {},
   "outputs": [
    {
     "name": "stdout",
     "output_type": "stream",
     "text": [
      "[7, 6, 5, 4, 3, 2, 1]\n"
     ]
    }
   ],
   "source": [
    "orginalarray=[1,2,3,4,5,6,7]\n",
    "n=len(orginalarray)\n",
    "for i in range(n//2):\n",
    "    temp=orginalarray[i]\n",
    "    orginalarray[i]=orginalarray[n-i-1]\n",
    "    orginalarray[n-i-1]=temp\n",
    "    \n",
    "print(orginalarray)\n",
    "    "
   ]
  },
  {
   "cell_type": "markdown",
   "id": "74a8854d",
   "metadata": {},
   "source": [
    "3. Write a program to check if two strings are a rotation of each other?\n",
    "\n"
   ]
  },
  {
   "cell_type": "code",
   "execution_count": 3,
   "id": "257ad68a",
   "metadata": {},
   "outputs": [
    {
     "name": "stdout",
     "output_type": "stream",
     "text": [
      "enter a string:hello\n",
      "enter a another string:llohe\n",
      "Two strings are rotation of each other\n"
     ]
    }
   ],
   "source": [
    "str1=input(\"enter a string:\")\n",
    "str2=input(\"enter a another string:\")\n",
    "if len(str1)!=len(str2):\n",
    "    print(\"Two strings are not a rotation of each other\")\n",
    "else:\n",
    "    temp=str1+str1\n",
    "    if str2 in temp:\n",
    "        print(\"Two strings are rotation of each other\")\n",
    "    else:\n",
    "        print(\"Two strings are not a rotation of each other\")\n",
    "    "
   ]
  },
  {
   "cell_type": "markdown",
   "id": "c9287a40",
   "metadata": {},
   "source": [
    "4. Write a program to print the first non-repeated character from a string?"
   ]
  },
  {
   "cell_type": "code",
   "execution_count": 6,
   "id": "16d1e7e4",
   "metadata": {},
   "outputs": [
    {
     "name": "stdout",
     "output_type": "stream",
     "text": [
      "First non-repeating character is s\n"
     ]
    }
   ],
   "source": [
    "string = \"siva\"\n",
    "index = -1\n",
    "non_repating =\"\"\n",
    "for i in string:\n",
    "    if string.count(i)==1:\n",
    "        non_repating +=i\n",
    "        break\n",
    "    else:\n",
    "        index +=1\n",
    "if index==1:\n",
    "    print(\"all characters are repating\")\n",
    "else:\n",
    "    print(\"First non-repeating character is\", non_repating)\n",
    "    \n",
    "    "
   ]
  },
  {
   "cell_type": "markdown",
   "id": "53b6feb6",
   "metadata": {},
   "source": [
    "5. Read about the Tower of Hanoi algorithm. Write a program to implement it."
   ]
  },
  {
   "cell_type": "code",
   "execution_count": 7,
   "id": "993d9dc9",
   "metadata": {},
   "outputs": [
    {
     "name": "stdout",
     "output_type": "stream",
     "text": [
      "disk 1 is moving from source A to destination C\n",
      "disk 2 is moving from source A to destination B\n",
      "disk 1 is moving from source C to destination B\n",
      "disk 3 is moving from source A to destination C\n",
      "disk 1 is moving from source B to destination A\n",
      "disk 2 is moving from source B to destination C\n",
      "disk 1 is moving from source A to destination C\n",
      "disk 4 is moving from source A to destination B\n",
      "disk 1 is moving from source C to destination B\n",
      "disk 2 is moving from source C to destination A\n",
      "disk 1 is moving from source B to destination A\n",
      "disk 3 is moving from source C to destination B\n",
      "disk 1 is moving from source A to destination C\n",
      "disk 2 is moving from source A to destination B\n",
      "disk 1 is moving from source C to destination B\n"
     ]
    }
   ],
   "source": [
    "def towerhanoi(n,source,destination,temp):\n",
    "    if n==1:\n",
    "        print(f\"disk 1 is moving from source {source} to destination {destination}\" )\n",
    "        return\n",
    "    towerhanoi(n-1,source,temp,destination)\n",
    "    print (f\"disk {n} is moving from source {source} to destination {destination}\")\n",
    "    towerhanoi(n-1, temp,destination,source)\n",
    "    \n",
    "n=4\n",
    "towerhanoi(n,'A','B','C')\n",
    "        \n"
   ]
  },
  {
   "cell_type": "markdown",
   "id": "db6957b8",
   "metadata": {},
   "source": [
    "6.Read about infix, prefix, and postfix expressions. Write a program to convert postfix to prefix expression."
   ]
  },
  {
   "cell_type": "code",
   "execution_count": 8,
   "id": "9844402b",
   "metadata": {},
   "outputs": [
    {
     "name": "stdout",
     "output_type": "stream",
     "text": [
      "prefix: *+AB-CD\n"
     ]
    }
   ],
   "source": [
    "def isoperator(x):\n",
    "    if x==\"+\":\n",
    "        return True\n",
    "    elif x==\"-\":\n",
    "        return True\n",
    "    elif x==\"*\":\n",
    "        return True\n",
    "    elif x==\"/\":\n",
    "         return True\n",
    "    else:\n",
    "        return False\n",
    "    \n",
    "\n",
    "def postfixtoprefix(postfix):\n",
    "    s=[]\n",
    "    length=len(postfix)\n",
    "    for i in range(length):\n",
    "        if (isoperator(postfix[i])):\n",
    "            op1=s[-1]\n",
    "            s.pop()\n",
    "            op2=s[-1]\n",
    "            s.pop()\n",
    "            temp=postfix[i]+op2+op1\n",
    "            s.append(temp)\n",
    "        else:\n",
    "            s.append(postfix[i])\n",
    "\n",
    "    ans=\"\"\n",
    "    for i in s:\n",
    "        ans +=i\n",
    "        return ans\n",
    "    \n",
    "postfix=\"AB+CD-*\"\n",
    "print(\"prefix:\",postfixtoprefix(postfix))\n",
    "\n",
    "            \n",
    "        \n",
    "        \n",
    "        "
   ]
  },
  {
   "cell_type": "markdown",
   "id": "5b4ad9f8",
   "metadata": {},
   "source": [
    "7. Write a program to convert prefix expression to infix expression.\n",
    "\n"
   ]
  },
  {
   "cell_type": "code",
   "execution_count": 9,
   "id": "64d4455a",
   "metadata": {},
   "outputs": [
    {
     "name": "stdout",
     "output_type": "stream",
     "text": [
      "((A-(B/C))*((A/K)-L))\n"
     ]
    }
   ],
   "source": [
    "def isoperator(x):\n",
    "    if x==\"+\":\n",
    "        return True\n",
    "    elif x==\"-\":\n",
    "        return True\n",
    "    elif x==\"*\":\n",
    "        return True\n",
    "    elif x==\"/\":\n",
    "         return True\n",
    "    elif x==\"(\":\n",
    "        return True\n",
    "    elif x==\")\":\n",
    "        return True\n",
    "    else:\n",
    "        return False\n",
    "    \n",
    "def prefixtoinfix(prefix):\n",
    "    stack=[]\n",
    "    i = len(prefix) - 1\n",
    "    while i >= 0:\n",
    "        if not isoperator(prefix[i]):\n",
    "            stack.append(prefix[i])\n",
    "            i -= 1\n",
    "        else:\n",
    "            str = \"(\" + stack.pop() + prefix[i] + stack.pop() + \")\"\n",
    "            stack.append(str)\n",
    "            i -= 1\n",
    "    return stack.pop()\n",
    "\n",
    "str=\"*-A/BC-/AKL\"\n",
    "print(prefixtoinfix(str))\n",
    "     \n",
    "            \n",
    "            \n",
    "              \n",
    "    \n",
    "    "
   ]
  },
  {
   "cell_type": "markdown",
   "id": "70e77238",
   "metadata": {},
   "source": [
    "8.Write a program to check if all the brackets are closed in a given code snippet."
   ]
  },
  {
   "cell_type": "code",
   "execution_count": 10,
   "id": "ce879963",
   "metadata": {},
   "outputs": [
    {
     "name": "stdout",
     "output_type": "stream",
     "text": [
      "not balanced\n"
     ]
    }
   ],
   "source": [
    "def balanced(input):\n",
    "    count=0\n",
    "    flag=True\n",
    "    i=len(input)\n",
    "    for i in range(i):\n",
    "        if input[i]==\"(\":\n",
    "            count+=1\n",
    "        else:\n",
    "            count-=1\n",
    "        if (count<0):\n",
    "            flag=False\n",
    "            break\n",
    "    if (count!=0):\n",
    "        flag=False\n",
    "    return flag\n",
    "\n",
    "if __name__==\"__main__\":\n",
    "    exp1=\"())((())\"\n",
    "    if (balanced(exp1)):\n",
    "        print(\"balanced\")\n",
    "    else:\n",
    "        print(\"not balanced\")"
   ]
  },
  {
   "cell_type": "markdown",
   "id": "ace1c1c1",
   "metadata": {},
   "source": [
    "9. Write a program to reverse a stack.\n",
    "\n"
   ]
  },
  {
   "cell_type": "code",
   "execution_count": 11,
   "id": "b9bc1a22",
   "metadata": {},
   "outputs": [],
   "source": [
    "class stack:\n",
    "    def __init__(self):\n",
    "        self.items=[]\n",
    "    def push(self,element):\n",
    "        self.items.append(element)\n",
    "    def pop(self):\n",
    "        return self.items.pop()\n",
    "    def empty(self):\n",
    "        return self.items==[]\n",
    "\n",
    "    def orginalstackshow(self):\n",
    "        print(\"orgina stack\")\n",
    "        for val in self.items:\n",
    "            print(val)\n",
    "            \n",
    "    def reversedstackshow(self):\n",
    "        print(\"\\nreversed stack\")\n",
    "        for val in reversed(self.items):\n",
    "            print(val)\n",
    "    \n",
    "            \n",
    "        "
   ]
  },
  {
   "cell_type": "code",
   "execution_count": 12,
   "id": "6fa29737",
   "metadata": {},
   "outputs": [],
   "source": [
    "stk=stack()\n",
    "stk.push(5)\n",
    "stk.push(7)\n",
    "stk.push(9)\n",
    "stk.push(1)\n",
    "stk.push(4)"
   ]
  },
  {
   "cell_type": "code",
   "execution_count": 13,
   "id": "2f6b5d15",
   "metadata": {},
   "outputs": [
    {
     "name": "stdout",
     "output_type": "stream",
     "text": [
      "orgina stack\n",
      "5\n",
      "7\n",
      "9\n",
      "1\n",
      "4\n",
      "\n",
      "reversed stack\n",
      "4\n",
      "1\n",
      "9\n",
      "7\n",
      "5\n"
     ]
    }
   ],
   "source": [
    "stk.orginalstackshow()\n",
    "stk.reversedstackshow()"
   ]
  },
  {
   "cell_type": "markdown",
   "id": "9500770d",
   "metadata": {},
   "source": [
    "10. Write a program to find the smallest number using a stack"
   ]
  },
  {
   "cell_type": "code",
   "execution_count": 14,
   "id": "582efdf6",
   "metadata": {},
   "outputs": [],
   "source": [
    "class stack:\n",
    "    def __init__(self):\n",
    "        self.stack=[]\n",
    "        self.min_stack=[]\n",
    "    def push(self,element):\n",
    "        self.stack.append(element)\n",
    "        if len(self.min_stack)==0:\n",
    "            self.min_stack.append(element)\n",
    "            return\n",
    "        smallest=min(element,self.min_stack[-1])\n",
    "        self.min_stack.append(smallest)\n",
    "    def pop(self):\n",
    "        self.min_stack.pop()\n",
    "        return self.stack.pop()\n",
    "    def min(self):\n",
    "        return self.min_stack[-1]\n",
    "        "
   ]
  },
  {
   "cell_type": "code",
   "execution_count": 15,
   "id": "4b6a5390",
   "metadata": {},
   "outputs": [],
   "source": [
    "skt=stack()\n",
    "skt.push(5)\n",
    "skt.push(7)\n",
    "skt.push(9)\n",
    "skt.push(1)\n",
    "skt.push(4)"
   ]
  },
  {
   "cell_type": "code",
   "execution_count": 16,
   "id": "34207f10",
   "metadata": {},
   "outputs": [
    {
     "data": {
      "text/plain": [
       "1"
      ]
     },
     "execution_count": 16,
     "metadata": {},
     "output_type": "execute_result"
    }
   ],
   "source": [
    "skt.min()"
   ]
  },
  {
   "cell_type": "code",
   "execution_count": null,
   "id": "82f00283",
   "metadata": {},
   "outputs": [],
   "source": []
  }
 ],
 "metadata": {
  "kernelspec": {
   "display_name": "Python 3 (ipykernel)",
   "language": "python",
   "name": "python3"
  },
  "language_info": {
   "codemirror_mode": {
    "name": "ipython",
    "version": 3
   },
   "file_extension": ".py",
   "mimetype": "text/x-python",
   "name": "python",
   "nbconvert_exporter": "python",
   "pygments_lexer": "ipython3",
   "version": "3.9.12"
  }
 },
 "nbformat": 4,
 "nbformat_minor": 5
}
